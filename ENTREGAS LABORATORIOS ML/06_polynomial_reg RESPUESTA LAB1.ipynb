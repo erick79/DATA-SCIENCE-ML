{
 "cells": [
  {
   "cell_type": "markdown",
   "id": "a8397a98",
   "metadata": {
    "id": "a8397a98",
    "pycharm": {
     "name": "#%% md\n"
    }
   },
   "source": [
    " Lab: Polynomial Regression\n",
    "\n",
    "In this lab, you will extend the data structures and previously developed routines to support multiple features including polynomial features and  feature scaling.\n",
    "# Outline\n",
    "- [&nbsp;&nbsp;1.1 Goals](#toc_15456_1.1)\n",
    "- [&nbsp;&nbsp;1.2 Tools](#toc_15456_1.2)\n",
    "- [&nbsp;&nbsp;1.3 Notation](#toc_15456_1.3)\n",
    "- [2 Problem Statement](#toc_15456_2)\n",
    "- [&nbsp;&nbsp;2.1 Matrix X containing our examples](#toc_15456_2.1)\n",
    "- [&nbsp;&nbsp;2.2 Parameter vector w, b](#toc_15456_2.2)\n",
    "- [3 Model Prediction With Multiple Variables](#toc_15456_3)\n",
    "- [&nbsp;&nbsp;3.1 Single Prediction element by element](#toc_15456_3.1)\n",
    "- [&nbsp;&nbsp;3.2 Single Prediction, vector](#toc_15456_3.2)\n",
    "- [4 Compute Cost With Multiple Variables](#toc_15456_4)\n",
    "- [5 Gradient Descent With Multiple Variables](#toc_15456_5)\n",
    "- [&nbsp;&nbsp;5.1 Compute Gradient with Multiple Variables](#toc_15456_5.1)\n",
    "- [&nbsp;&nbsp;5.2 Gradient Descent With Multiple Variables](#toc_15456_5.2)\n",
    "- [6 Congratulations](#toc_15456_6)\n"
   ]
  },
  {
   "cell_type": "code",
   "execution_count": 1,
   "id": "4MdskRHLDuWC",
   "metadata": {
    "colab": {
     "base_uri": "https://localhost:8080/"
    },
    "executionInfo": {
     "elapsed": 21657,
     "status": "ok",
     "timestamp": 1746492502177,
     "user": {
      "displayName": "Erick Haroldo Sanabria Salazar",
      "userId": "12485460369353346899"
     },
     "user_tz": 360
    },
    "id": "4MdskRHLDuWC",
    "outputId": "0318b429-3cc5-4572-a44d-360e0f92f279"
   },
   "outputs": [
    {
     "name": "stdout",
     "output_type": "stream",
     "text": [
      "Mounted at /content/drive\n"
     ]
    }
   ],
   "source": [
    "from google.colab import drive\n",
    "drive.mount('/content/drive')"
   ]
  },
  {
   "cell_type": "markdown",
   "id": "1ae3ed16",
   "metadata": {
    "id": "1ae3ed16",
    "pycharm": {
     "name": "#%% md\n"
    }
   },
   "source": [
    "<a name=\"toc_15456_1.1\"></a>\n",
    "## 1.1 Goals\n",
    "- Extend our regression model  routines to support multiple features\n",
    "    - Extend data structures to support multiple features\n",
    "    - Rewrite prediction, cost and gradient routines to support multiple features\n",
    "    - Utilize NumPy `np.dot` to vectorize their implementations for speed and simplicity"
   ]
  },
  {
   "cell_type": "markdown",
   "id": "15003c4e",
   "metadata": {
    "id": "15003c4e",
    "pycharm": {
     "name": "#%% md\n"
    }
   },
   "source": [
    "<a name=\"toc_15456_1.2\"></a>\n",
    "## 1.2 Tools\n",
    "In this lab, we will make use of:\n",
    "- NumPy, a popular library for scientific computing\n",
    "- Matplotlib, a popular library for plotting data"
   ]
  },
  {
   "cell_type": "code",
   "execution_count": 4,
   "id": "5c40e068",
   "metadata": {
    "executionInfo": {
     "elapsed": 244,
     "status": "ok",
     "timestamp": 1746492538526,
     "user": {
      "displayName": "Erick Haroldo Sanabria Salazar",
      "userId": "12485460369353346899"
     },
     "user_tz": 360
    },
    "id": "5c40e068",
    "pycharm": {
     "name": "#%%\n"
    }
   },
   "outputs": [],
   "source": [
    "import copy, math\n",
    "import numpy as np\n",
    "import matplotlib.pyplot as plt\n",
    "plt.style.use('https://raw.githubusercontent.com/greyhatguy007/Machine-Learning-Specialization-Coursera/refs/heads/main/C1%20-%20Supervised%20Machine%20Learning%20-%20Regression%20and%20Classification/week2/Optional%20Labs/deeplearning.mplstyle')\n",
    "np.set_printoptions(precision=2)  # reduced display precision on numpy arrays"
   ]
  },
  {
   "cell_type": "markdown",
   "id": "50111368",
   "metadata": {
    "id": "50111368",
    "pycharm": {
     "name": "#%% md\n"
    }
   },
   "source": [
    "<a name=\"toc_15456_1.3\"></a>\n",
    "## 1.3 Notation\n",
    "Here is a summary of some of the notation you will encounter, updated for multiple features.\n",
    "\n",
    "| General Notation | Description | Python (if applicable) |\n",
    "|:----------------:|:-----------:|:----------------------:|\n",
    "|      $a$         | scalar, non-bold | |\n",
    "|  $\\mathbf{a}$   | vector, bold | |\n",
    "|  $\\mathbf{A}$   | matrix, bold capital | |\n",
    "| **Regression** | | |\n",
    "|  $\\mathbf{X}$   | training example matrix | `X_train` |\n",
    "|  $\\mathbf{y}$   | training example targets | `y_train` |\n",
    "| $\\mathbf{x}^{(i)}$, $y^{(i)}$ | $i_{th}$ Training Example | `X[i]`, `y[i]` |\n",
    "|        $m$       | number of training examples | `m` |\n",
    "|        $n$       | number of features in each example | `n` |\n",
    "|  $\\mathbf{w}$   | parameter: weight | `w` |\n",
    "|        $b$       | parameter: bias | `b` |\n",
    "| $f_{\\mathbf{w},b}(\\mathbf{x}^{(i)})$ | The result model evaluation at $\\mathbf{x}^{(i)}$ parameterized by $\\mathbf{w},b$: $f_{\\mathbf{w},b}(\\mathbf{x}^{(i)}) = \\mathbf{w} \\cdot \\mathbf{x}^{(i)}+b$ | `f_wb` |\n",
    "\n"
   ]
  },
  {
   "cell_type": "markdown",
   "id": "b5494961",
   "metadata": {
    "id": "b5494961",
    "pycharm": {
     "name": "#%% md\n"
    }
   },
   "source": [
    "<a name=\"toc_15456_2\"></a>\n",
    "# 2 Problem Statement\n",
    "\n",
    "You will use the motivating example of housing price prediction. The training dataset contains three examples with four features (size, bedrooms, floors and, age) shown in the table below.  Note that, unlike the earlier labs, size is in sqft rather than 1000 sqft. This causes an issue, which you will solve in the next lab!\n",
    "\n",
    "| Size (sqft) | Number of Bedrooms  | Number of floors | Age of  Home | Price (1000s dollars)  |   \n",
    "| ----------------| ------------------- |----------------- |--------------|-------------- |  \n",
    "| 2104            | 5                   | 1                | 45           | 460           |  \n",
    "| 1416            | 3                   | 2                | 40           | 232           |  \n",
    "| 852             | 2                   | 1                | 35           | 178           |  \n",
    "\n",
    "You will build a linear regression model using these values so you can then predict the price for other houses. For example, a house with 1200 sqft, 3 bedrooms, 1 floor, 40 years old.  \n",
    "\n",
    "Please run the following code cell to create your `X_train` and `y_train` variables."
   ]
  },
  {
   "cell_type": "code",
   "execution_count": 5,
   "id": "c2475e43",
   "metadata": {
    "executionInfo": {
     "elapsed": 3,
     "status": "ok",
     "timestamp": 1746492553537,
     "user": {
      "displayName": "Erick Haroldo Sanabria Salazar",
      "userId": "12485460369353346899"
     },
     "user_tz": 360
    },
    "id": "c2475e43",
    "pycharm": {
     "name": "#%%\n"
    }
   },
   "outputs": [],
   "source": [
    "X_train = np.array([[2104, 5, 1, 45], [1416, 3, 2, 40], [852, 2, 1, 35]])\n",
    "y_train = np.array([460, 232, 178])"
   ]
  },
  {
   "cell_type": "markdown",
   "id": "31ca6f7f",
   "metadata": {
    "id": "31ca6f7f",
    "pycharm": {
     "name": "#%% md\n"
    }
   },
   "source": [
    "<a name=\"toc_15456_2.1\"></a>\n",
    "## 2.1 Matrix X containing our examples\n",
    "Similar to the table above, examples are stored in a NumPy matrix `X_train`. Each row of the matrix represents one example. When you have $m$ training examples ( $m$ is three in our example), and there are $n$ features (four in our example), $\\mathbf{X}$ is a matrix with dimensions ($m$, $n$) (m rows, n columns).\n",
    "\n",
    "\n",
    "$$\\mathbf{X} =\n",
    "\\begin{pmatrix}\n",
    " x^{(0)}_0 & x^{(0)}_1 & \\cdots & x^{(0)}_{n-1} \\\\\n",
    " x^{(1)}_0 & x^{(1)}_1 & \\cdots & x^{(1)}_{n-1} \\\\\n",
    " \\cdots \\\\\n",
    " x^{(m-1)}_0 & x^{(m-1)}_1 & \\cdots & x^{(m-1)}_{n-1}\n",
    "\\end{pmatrix}\n",
    "$$\n",
    "notation:\n",
    "- $\\mathbf{x}^{(i)}$ is vector containing example i. $\\mathbf{x}^{(i)}$ $ = (x^{(i)}_0, x^{(i)}_1, \\cdots,x^{(i)}_{n-1})$\n",
    "- $x^{(i)}_j$ is element j in example i. The superscript in parenthesis indicates the example number while the subscript represents an element.  \n",
    "\n",
    "Display the input data."
   ]
  },
  {
   "cell_type": "code",
   "execution_count": 6,
   "id": "5d04e40c",
   "metadata": {
    "colab": {
     "base_uri": "https://localhost:8080/"
    },
    "executionInfo": {
     "elapsed": 8,
     "status": "ok",
     "timestamp": 1746492571352,
     "user": {
      "displayName": "Erick Haroldo Sanabria Salazar",
      "userId": "12485460369353346899"
     },
     "user_tz": 360
    },
    "id": "5d04e40c",
    "outputId": "aac219a5-3981-4287-ec09-dfbbe9f39ac5",
    "pycharm": {
     "name": "#%%\n"
    }
   },
   "outputs": [
    {
     "name": "stdout",
     "output_type": "stream",
     "text": [
      "X Shape: (3, 4), X Type:<class 'numpy.ndarray'>)\n",
      "[[2104    5    1   45]\n",
      " [1416    3    2   40]\n",
      " [ 852    2    1   35]]\n",
      "y Shape: (3,), y Type:<class 'numpy.ndarray'>)\n",
      "[460 232 178]\n"
     ]
    }
   ],
   "source": [
    "# data is stored in numpy array/matrix\n",
    "print(f\"X Shape: {X_train.shape}, X Type:{type(X_train)})\")\n",
    "print(X_train)\n",
    "print(f\"y Shape: {y_train.shape}, y Type:{type(y_train)})\")\n",
    "print(y_train)"
   ]
  },
  {
   "cell_type": "markdown",
   "id": "7RLfu3Z_u0Bh",
   "metadata": {
    "id": "7RLfu3Z_u0Bh"
   },
   "source": [
    "## 2.1.1 Pre-processing\n",
    "\n",
    "In this  section we do pre-processing, we will add new features so the number of features \"n\" increases, we will do:\n",
    "* Polynomial features: for every input variable add at least 1 additional polynomial feature\n",
    "* Perform feature scaling(any method you wish)\n",
    "\n",
    "*NOTE*: the resulting dataset has to be assigned to the same variable X_train"
   ]
  },
  {
   "cell_type": "markdown",
   "id": "v7wya4d8vbHP",
   "metadata": {
    "id": "v7wya4d8vbHP"
   },
   "source": [
    "**Polynomial features:**"
   ]
  },
  {
   "cell_type": "code",
   "execution_count": 7,
   "id": "emy4D0DauvmH",
   "metadata": {
    "id": "emy4D0DauvmH"
   },
   "outputs": [],
   "source": [
    "# YOUR CODE HERE\n",
    "X_train=X_train**2"
   ]
  },
  {
   "cell_type": "markdown",
   "id": "FseZaRPWvm_Z",
   "metadata": {
    "id": "FseZaRPWvm_Z"
   },
   "source": [
    "**Feature scaling:**"
   ]
  },
  {
   "cell_type": "code",
   "execution_count": 8,
   "id": "b8pd6yK4vrac",
   "metadata": {
    "id": "b8pd6yK4vrac"
   },
   "outputs": [],
   "source": [
    "# YOUR CODE HERE\n",
    "X_train=(X_train - np.min(X_train))/(np.max(X_train)-np.min(X_train))"
   ]
  },
  {
   "cell_type": "markdown",
   "id": "edf11b90",
   "metadata": {
    "id": "edf11b90",
    "pycharm": {
     "name": "#%% md\n"
    }
   },
   "source": [
    "<a name=\"toc_15456_2.2\"></a>\n",
    "## 2.2 Parameter vector w, b\n",
    "\n",
    "* $\\mathbf{w}$ is a vector with $n$ elements.\n",
    "  - Each element contains the parameter associated with one feature.\n",
    "  - notionally, we draw this as a column vector\n",
    "\n",
    "$$\\mathbf{w} = \\begin{pmatrix}\n",
    "w_0 \\\\\n",
    "w_1 \\\\\n",
    "\\cdots\\\\\n",
    "w_{n-1}\n",
    "\\end{pmatrix}\n",
    "$$\n",
    "* $b$ is a scalar parameter.  "
   ]
  },
  {
   "cell_type": "markdown",
   "id": "f9a2f0c4",
   "metadata": {
    "id": "f9a2f0c4",
    "pycharm": {
     "name": "#%% md\n"
    }
   },
   "source": [
    "For demonstration, $\\mathbf{w}$ and $b$ will be loaded with some initial selected values(0 and random values). $\\mathbf{w}$ is a 1-D NumPy vector."
   ]
  },
  {
   "cell_type": "code",
   "execution_count": 9,
   "id": "6b7cefc9",
   "metadata": {
    "colab": {
     "base_uri": "https://localhost:8080/"
    },
    "executionInfo": {
     "elapsed": 46,
     "status": "ok",
     "timestamp": 1746492620922,
     "user": {
      "displayName": "Erick Haroldo Sanabria Salazar",
      "userId": "12485460369353346899"
     },
     "user_tz": 360
    },
    "id": "6b7cefc9",
    "outputId": "3ee511e1-f504-4002-d34d-682fadb1ba85",
    "pycharm": {
     "name": "#%%\n"
    }
   },
   "outputs": [
    {
     "name": "stdout",
     "output_type": "stream",
     "text": [
      "w_init shape: (4,), b_init type: <class 'int'>\n"
     ]
    }
   ],
   "source": [
    "n = X_train.shape[1] # the number of features(columns)\n",
    "b_init = 0\n",
    "w_init  = np.random.normal(loc=0.0, scale=1.0, size=n)\n",
    "print(f\"w_init shape: {w_init.shape}, b_init type: {type(b_init)}\")"
   ]
  },
  {
   "cell_type": "markdown",
   "id": "ae210bb9",
   "metadata": {
    "id": "ae210bb9",
    "pycharm": {
     "name": "#%% md\n"
    }
   },
   "source": [
    "<a name=\"toc_15456_3\"></a>\n",
    "# 3 Model Prediction With Multiple Variables\n",
    "The model's prediction with multiple variables is given by the linear model:\n",
    "\n",
    "$$ f_{\\mathbf{w},b}(\\mathbf{x}) =  w_0x_0 + w_1x_1 +... + w_{n-1}x_{n-1} + b \\tag{1}$$\n",
    "or in vector notation:\n",
    "$$ f_{\\mathbf{w},b}(\\mathbf{x}) = \\mathbf{w} \\cdot \\mathbf{x} + b  \\tag{2} $$\n",
    "where $\\cdot$ is a vector `dot product`\n",
    "\n",
    "To demonstrate the dot product, we will implement prediction using (1) and (2)."
   ]
  },
  {
   "cell_type": "markdown",
   "id": "2feb076d",
   "metadata": {
    "id": "2feb076d",
    "pycharm": {
     "name": "#%% md\n"
    }
   },
   "source": [
    "<a name=\"toc_15456_3.1\"></a>\n",
    "## 3.1 Single Prediction element by element\n",
    "This example function implements a prediction method for a  single observation(single house) using a loop to iterate over the features and parameters.\n",
    "\n",
    "This is NON-VECTORIZED code\n"
   ]
  },
  {
   "cell_type": "code",
   "execution_count": 10,
   "id": "27678037",
   "metadata": {
    "executionInfo": {
     "elapsed": 3,
     "status": "ok",
     "timestamp": 1746492628700,
     "user": {
      "displayName": "Erick Haroldo Sanabria Salazar",
      "userId": "12485460369353346899"
     },
     "user_tz": 360
    },
    "id": "27678037",
    "pycharm": {
     "name": "#%%\n"
    }
   },
   "outputs": [],
   "source": [
    "def predict_single_loop(x, w, b):\n",
    "    \"\"\"\n",
    "    single predict using linear regression\n",
    "\n",
    "    Args:\n",
    "      x (ndarray): Shape (n,) example with multiple features\n",
    "      w (ndarray): Shape (n,) model parameters\n",
    "      b (scalar):  model parameter\n",
    "\n",
    "    Returns:\n",
    "      p (scalar):  prediction\n",
    "    \"\"\"\n",
    "    n = x.shape[0]\n",
    "    p = 0\n",
    "    for i in range(n):\n",
    "        p_i = x[i] * w[i]\n",
    "        p = p + p_i\n",
    "    p = p + b\n",
    "    return p"
   ]
  },
  {
   "cell_type": "code",
   "execution_count": 11,
   "id": "816e2696",
   "metadata": {
    "colab": {
     "base_uri": "https://localhost:8080/"
    },
    "executionInfo": {
     "elapsed": 7,
     "status": "ok",
     "timestamp": 1746492640588,
     "user": {
      "displayName": "Erick Haroldo Sanabria Salazar",
      "userId": "12485460369353346899"
     },
     "user_tz": 360
    },
    "id": "816e2696",
    "outputId": "8af45a99-a8a9-4a70-ba80-d4ffcee5bb31",
    "pycharm": {
     "name": "#%%\n"
    }
   },
   "outputs": [
    {
     "name": "stdout",
     "output_type": "stream",
     "text": [
      "x_vec shape (4,), x_vec value: [1.00e+00 5.42e-06 0.00e+00 4.57e-04]\n",
      "f_wb shape (), prediction: 0.8106058118672101\n"
     ]
    }
   ],
   "source": [
    "# get a row from our training data\n",
    "x_vec = X_train[0,:]\n",
    "print(f\"x_vec shape {x_vec.shape}, x_vec value: {x_vec}\")\n",
    "\n",
    "# make a prediction\n",
    "f_wb = predict_single_loop(x_vec, w_init, b_init)\n",
    "print(f\"f_wb shape {f_wb.shape}, prediction: {f_wb}\")"
   ]
  },
  {
   "cell_type": "markdown",
   "id": "af8cc06e",
   "metadata": {
    "id": "af8cc06e",
    "pycharm": {
     "name": "#%% md\n"
    }
   },
   "source": [
    "Note the shape of `x_vec`. It is a 1-D NumPy vector with 4 elements, (4,). The result, `f_wb` is a scalar."
   ]
  },
  {
   "cell_type": "markdown",
   "id": "67793119",
   "metadata": {
    "id": "67793119",
    "pycharm": {
     "name": "#%% md\n"
    }
   },
   "source": [
    "<a name=\"toc_15456_3.2\"></a>\n",
    "## 3.2 Single Prediction, vector\n",
    "\n",
    "Noting that equation (1) above can be implemented using the dot product as in (2) above. We can make use of vector operations to speed up predictions.\n",
    "\n",
    "Recall from the Python/Numpy lab that NumPy `np.dot()`[[link](https://numpy.org/doc/stable/reference/generated/numpy.dot.html)] can be used to perform a vector dot product.\n",
    "\n",
    "This code runs a prediction for a single house given the features of the house."
   ]
  },
  {
   "cell_type": "code",
   "execution_count": 12,
   "id": "5d9f441e",
   "metadata": {
    "executionInfo": {
     "elapsed": 6,
     "status": "ok",
     "timestamp": 1746492645073,
     "user": {
      "displayName": "Erick Haroldo Sanabria Salazar",
      "userId": "12485460369353346899"
     },
     "user_tz": 360
    },
    "id": "5d9f441e",
    "pycharm": {
     "name": "#%%\n"
    }
   },
   "outputs": [],
   "source": [
    "def predict(x, w, b):\n",
    "    \"\"\"\n",
    "    single predict using linear regression\n",
    "    Args:\n",
    "      x (ndarray): Shape (n,) example with multiple features\n",
    "      w (ndarray): Shape (n,) model parameters\n",
    "      b (scalar):             model parameter\n",
    "\n",
    "    Returns:\n",
    "      p (scalar):  prediction\n",
    "    \"\"\"\n",
    "    p = np.dot(x, w) + b\n",
    "    return p"
   ]
  },
  {
   "cell_type": "code",
   "execution_count": 13,
   "id": "3e1fe583",
   "metadata": {
    "colab": {
     "base_uri": "https://localhost:8080/"
    },
    "executionInfo": {
     "elapsed": 8,
     "status": "ok",
     "timestamp": 1746492647487,
     "user": {
      "displayName": "Erick Haroldo Sanabria Salazar",
      "userId": "12485460369353346899"
     },
     "user_tz": 360
    },
    "id": "3e1fe583",
    "outputId": "66ffd639-fe88-441d-f913-5224165f44b7",
    "pycharm": {
     "name": "#%%\n"
    }
   },
   "outputs": [
    {
     "name": "stdout",
     "output_type": "stream",
     "text": [
      "x_vec shape (4,), x_vec value: [1.00e+00 5.42e-06 0.00e+00 4.57e-04]\n",
      "f_wb shape (), prediction: 0.8106058118672101\n"
     ]
    }
   ],
   "source": [
    "# get a row from our training data\n",
    "x_vec = X_train[0,:]\n",
    "print(f\"x_vec shape {x_vec.shape}, x_vec value: {x_vec}\")\n",
    "\n",
    "# make a prediction\n",
    "f_wb = predict(x_vec,w_init, b_init)\n",
    "print(f\"f_wb shape {f_wb.shape}, prediction: {f_wb}\")"
   ]
  },
  {
   "cell_type": "markdown",
   "id": "51e18ca2",
   "metadata": {
    "id": "51e18ca2",
    "pycharm": {
     "name": "#%% md\n"
    }
   },
   "source": [
    "The results and shapes are the same as the previous version which used looping. Going forward, `np.dot` will be used for these operations. The prediction is now a single statement. Most routines will implement it directly rather than calling a separate predict routine."
   ]
  },
  {
   "cell_type": "markdown",
   "id": "NzYHA9VpzfUw",
   "metadata": {
    "id": "NzYHA9VpzfUw"
   },
   "source": [
    "## 3.3 Practice: Implement a predict function to predict the price of all houses in the dataset simultaneously using vectorized code.\n",
    "\n",
    "\n",
    "\n",
    "*   You cannot use loops\n",
    "*   Your input is the X_train matrix and returns a vector of predictions\n",
    "\n",
    "**Tips**:\n",
    "* Use the fact that matrix multiplication between 2 matrices matmul(A,B) is a collection of dot products between the rows of matrix A an colums of matrix B\n",
    "  <img src=\"https://upload.wikimedia.org/wikipedia/commons/8/86/Matrix_multiplication_.gif\">\n",
    "* The parameters vector can be considered a matrix of n rows and 1 column\n",
    "* Use matmul: https://numpy.org/doc/2.2/reference/generated/numpy.matmul.html\n",
    "\n"
   ]
  },
  {
   "cell_type": "code",
   "execution_count": 29,
   "id": "Uy8yCq0a0z8L",
   "metadata": {
    "id": "Uy8yCq0a0z8L"
   },
   "outputs": [],
   "source": [
    "def predict_all(X, w, b):\n",
    "  \"\"\"\n",
    "  Returns a vector of size m=number of rows in X\n",
    "  \"\"\"\n",
    "  return np.dot(X, w) + b\n",
    "  # YOUR CODE HERE"
   ]
  },
  {
   "cell_type": "code",
   "execution_count": 30,
   "id": "9uyNTwqs1Qwx",
   "metadata": {
    "id": "9uyNTwqs1Qwx"
   },
   "outputs": [
    {
     "name": "stdout",
     "output_type": "stream",
     "text": [
      "predictions shape (3,), predictions: [0.81 0.37 0.13]\n"
     ]
    }
   ],
   "source": [
    "predictions = predict_all(X_train,w_init, b_init)\n",
    "print(f\"predictions shape {predictions.shape}, predictions: {predictions}\")"
   ]
  },
  {
   "cell_type": "markdown",
   "id": "49051059",
   "metadata": {
    "id": "49051059",
    "pycharm": {
     "name": "#%% md\n"
    }
   },
   "source": [
    "<a name=\"toc_15456_4\"></a>\n",
    "# 4 Compute Cost With Multiple Variables\n",
    "The equation for the cost function with multiple variables $J(\\mathbf{w},b)$ is:\n",
    "$$J(\\mathbf{w},b) = \\frac{1}{2m} \\sum\\limits_{i = 0}^{m-1} (f_{\\mathbf{w},b}(\\mathbf{x}^{(i)}) - y^{(i)})^2 \\tag{3}$$\n",
    "where:\n",
    "$$ f_{\\mathbf{w},b}(\\mathbf{x}^{(i)}) = \\mathbf{w} \\cdot \\mathbf{x}^{(i)} + b  \\tag{4} $$\n",
    "\n",
    "\n",
    "In contrast to previous labs, $\\mathbf{w}$ and $\\mathbf{x}^{(i)}$ are vectors rather than scalars supporting multiple features."
   ]
  },
  {
   "cell_type": "markdown",
   "id": "e5a93e78",
   "metadata": {
    "id": "e5a93e78",
    "pycharm": {
     "name": "#%% md\n"
    }
   },
   "source": [
    "Below is an implementation of equations (3) and (4). Note that this uses a *non vectorized pattern* where a for loop over all `m` examples is used to claculate the cost per house and accumulate it, in the next exercise you will implement an equivalent version fully vectorized(removing the loop)"
   ]
  },
  {
   "cell_type": "code",
   "execution_count": 31,
   "id": "12976173",
   "metadata": {
    "executionInfo": {
     "elapsed": 6,
     "status": "ok",
     "timestamp": 1746492677310,
     "user": {
      "displayName": "Erick Haroldo Sanabria Salazar",
      "userId": "12485460369353346899"
     },
     "user_tz": 360
    },
    "id": "12976173",
    "pycharm": {
     "name": "#%%\n"
    }
   },
   "outputs": [],
   "source": [
    "def compute_cost(X, y, w, b):\n",
    "    \"\"\"\n",
    "    compute cost\n",
    "    Args:\n",
    "      X (ndarray (m,n)): Data, m examples with n features\n",
    "      y (ndarray (m,)) : target values\n",
    "      w (ndarray (n,)) : model parameters\n",
    "      b (scalar)       : model parameter\n",
    "\n",
    "    Returns:\n",
    "      cost (scalar): cost\n",
    "    \"\"\"\n",
    "    m = X.shape[0]\n",
    "    cost = 0.0\n",
    "    for i in range(m):\n",
    "        f_wb_i = np.dot(X[i], w) + b           #(n,)(n,) = scalar (see np.dot)\n",
    "        cost = cost + (f_wb_i - y[i])**2       #scalar\n",
    "    cost = cost / (2 * m)                      #scalar\n",
    "    return cost"
   ]
  },
  {
   "cell_type": "code",
   "execution_count": 32,
   "id": "a4641c44",
   "metadata": {
    "colab": {
     "base_uri": "https://localhost:8080/"
    },
    "executionInfo": {
     "elapsed": 18,
     "status": "ok",
     "timestamp": 1746492683422,
     "user": {
      "displayName": "Erick Haroldo Sanabria Salazar",
      "userId": "12485460369353346899"
     },
     "user_tz": 360
    },
    "id": "a4641c44",
    "outputId": "10e1a538-1b7d-49a1-ae16-da4d247bb00d",
    "pycharm": {
     "name": "#%%\n"
    }
   },
   "outputs": [
    {
     "name": "stdout",
     "output_type": "stream",
     "text": [
      "Cost at initial w : 49357.56659532138\n"
     ]
    }
   ],
   "source": [
    "# Compute and display cost using our pre-chosen optimal parameters.\n",
    "cost = compute_cost(X_train, y_train, w_init, b_init)\n",
    "print(f'Cost at initial w : {cost}')"
   ]
  },
  {
   "cell_type": "markdown",
   "id": "VcL9hth63JeX",
   "metadata": {
    "id": "VcL9hth63JeX"
   },
   "source": [
    "## 4.1 Practice: Implement a fully vectorized cost function for all houses simultaneously.\n",
    "\n",
    "In this section you implement the cost function using only vectorized code.\n",
    "\n",
    "* You cannot use a loop.\n",
    "* You calculate the vector of predictions using the predict_all function created previously\n",
    "* You use vector of real y values\n",
    "* You use numpy vectorized operations such as np.mean\n"
   ]
  },
  {
   "cell_type": "code",
   "execution_count": 33,
   "id": "5I4EKzeg39L0",
   "metadata": {
    "executionInfo": {
     "elapsed": 4,
     "status": "ok",
     "timestamp": 1746494595198,
     "user": {
      "displayName": "Erick Haroldo Sanabria Salazar",
      "userId": "12485460369353346899"
     },
     "user_tz": 360
    },
    "id": "5I4EKzeg39L0"
   },
   "outputs": [],
   "source": [
    "def compute_cost_vectorized(X, y, w, b):\n",
    "  # YOUR CODE HERE\n",
    "  m = X.shape[0]\n",
    "  cost = 0.0\n",
    "\n",
    "  m = X.shape[0]\n",
    "  f_wb = np.dot(X, w) + b\n",
    "  resta=f_wb - y  #primero restamos los vetores x e y\n",
    "  eleveado=resta**2 #luego el resultado lo elevamos al cuadrado\n",
    "  sumavector=np.sum(eleveado) #luego hacemos la sumatoria\n",
    "  cost=sumavector/(2*m) #y luego lo multimplicamos por el escalar 1/2m\n",
    "\n",
    "  return cost"
   ]
  },
  {
   "cell_type": "code",
   "execution_count": 34,
   "id": "KL52uyWf4HcO",
   "metadata": {
    "colab": {
     "base_uri": "https://localhost:8080/"
    },
    "executionInfo": {
     "elapsed": 7,
     "status": "ok",
     "timestamp": 1746494598085,
     "user": {
      "displayName": "Erick Haroldo Sanabria Salazar",
      "userId": "12485460369353346899"
     },
     "user_tz": 360
    },
    "id": "KL52uyWf4HcO",
    "outputId": "be7bd50f-0dcf-424d-e736-273816eac76a"
   },
   "outputs": [
    {
     "name": "stdout",
     "output_type": "stream",
     "text": [
      "Cost at initial w : 49357.56659532138\n"
     ]
    }
   ],
   "source": [
    "# Compute and display cost using our pre-chosen optimal parameters.\n",
    "cost = compute_cost_vectorized(X_train, y_train, w_init, b_init)\n",
    "print(f'Cost at initial w : {cost}')"
   ]
  },
  {
   "cell_type": "markdown",
   "id": "42d69d8b",
   "metadata": {
    "id": "42d69d8b",
    "pycharm": {
     "name": "#%% md\n"
    }
   },
   "source": [
    "<a name=\"toc_15456_5\"></a>\n",
    "# 5 Gradient Descent With Multiple Variables\n",
    "Gradient descent for multiple variables:\n",
    "\n",
    "$$\\begin{align*} \\text{repeat}&\\text{ until convergence:} \\; \\lbrace \\newline\\;\n",
    "& w_j = w_j -  \\alpha \\frac{\\partial J(\\mathbf{w},b)}{\\partial w_j} \\tag{5}  \\; & \\text{for j = 0..n-1}\\newline\n",
    "&b\\ \\ = b -  \\alpha \\frac{\\partial J(\\mathbf{w},b)}{\\partial b}  \\newline \\rbrace\n",
    "\\end{align*}$$\n",
    "\n",
    "where, n is the number of features, parameters $w_j$,  $b$, are updated simultaneously and where  \n",
    "\n",
    "$$\n",
    "\\begin{align}\n",
    "\\frac{\\partial J(\\mathbf{w},b)}{\\partial w_j}  &= \\frac{1}{m} \\sum\\limits_{i = 0}^{m-1} (f_{\\mathbf{w},b}(\\mathbf{x}^{(i)}) - y^{(i)})x_{j}^{(i)} \\tag{6}  \\\\\n",
    "\\frac{\\partial J(\\mathbf{w},b)}{\\partial b}  &= \\frac{1}{m} \\sum\\limits_{i = 0}^{m-1} (f_{\\mathbf{w},b}(\\mathbf{x}^{(i)}) - y^{(i)}) \\tag{7}\n",
    "\\end{align}\n",
    "$$\n",
    "* m is the number of training examples in the data set\n",
    "\n",
    "    \n",
    "*  $f_{\\mathbf{w},b}(\\mathbf{x}^{(i)})$ is the model's prediction, while $y^{(i)}$ is the target value\n"
   ]
  },
  {
   "cell_type": "markdown",
   "id": "a6d33f60",
   "metadata": {
    "id": "a6d33f60",
    "pycharm": {
     "name": "#%% md\n"
    }
   },
   "source": [
    "<a name=\"toc_15456_5.1\"></a>\n",
    "## 5.1 Compute Gradient with Multiple Variables\n",
    "An implementation for calculating the equations (6) and (7) is below. There are many ways to implement this. In this version, there is an\n",
    "- outer loop over all m examples.\n",
    "    - $\\frac{\\partial J(\\mathbf{w},b)}{\\partial b}$ for the example can be computed directly and accumulated\n",
    "    - in a second loop over all n features:\n",
    "        - $\\frac{\\partial J(\\mathbf{w},b)}{\\partial w_j}$ is computed for each $w_j$.\n",
    "   \n",
    "\n",
    "In the following section you will implement an equivalent fully vectorized version of it"
   ]
  },
  {
   "cell_type": "code",
   "execution_count": 35,
   "id": "5a380261",
   "metadata": {
    "executionInfo": {
     "elapsed": 3,
     "status": "ok",
     "timestamp": 1746494628641,
     "user": {
      "displayName": "Erick Haroldo Sanabria Salazar",
      "userId": "12485460369353346899"
     },
     "user_tz": 360
    },
    "id": "5a380261",
    "pycharm": {
     "name": "#%%\n"
    }
   },
   "outputs": [],
   "source": [
    "def compute_gradient(X, y, w, b):\n",
    "    \"\"\"\n",
    "    Computes the gradient for linear regression\n",
    "    Args:\n",
    "      X (ndarray (m,n)): Data, m examples with n features\n",
    "      y (ndarray (m,)) : target values\n",
    "      w (ndarray (n,)) : model parameters\n",
    "      b (scalar)       : model parameter\n",
    "\n",
    "    Returns:\n",
    "      dj_dw (ndarray (n,)): The gradient of the cost w.r.t. the parameters w.\n",
    "      dj_db (scalar):       The gradient of the cost w.r.t. the parameter b.\n",
    "    \"\"\"\n",
    "    m,n = X.shape           #(number of examples, number of features)\n",
    "    dj_dw = np.zeros((n,))\n",
    "    dj_db = 0.\n",
    "\n",
    "    for i in range(m):\n",
    "        err = (np.dot(X[i], w) + b) - y[i]\n",
    "        for j in range(n):\n",
    "            dj_dw[j] = dj_dw[j] + err * X[i, j]\n",
    "        dj_db = dj_db + err\n",
    "    dj_dw = dj_dw / m\n",
    "    dj_db = dj_db / m\n",
    "\n",
    "    return dj_db, dj_dw"
   ]
  },
  {
   "cell_type": "code",
   "execution_count": 36,
   "id": "3c0a185f",
   "metadata": {
    "colab": {
     "base_uri": "https://localhost:8080/"
    },
    "executionInfo": {
     "elapsed": 14,
     "status": "ok",
     "timestamp": 1746494632213,
     "user": {
      "displayName": "Erick Haroldo Sanabria Salazar",
      "userId": "12485460369353346899"
     },
     "user_tz": 360
    },
    "id": "3c0a185f",
    "outputId": "439e0c82-67d9-4ac0-d22f-619d0d58dfec",
    "pycharm": {
     "name": "#%%\n"
    }
   },
   "outputs": [
    {
     "name": "stdout",
     "output_type": "stream",
     "text": [
      "dj_db at initial w,b: -289.5631283196694\n",
      "dj_dw at initial w,b: \n",
      " [-1.98e+02 -1.01e-03 -5.23e-05 -1.14e-01]\n"
     ]
    }
   ],
   "source": [
    "#Compute and display gradient\n",
    "tmp_dj_db, tmp_dj_dw = compute_gradient(X_train, y_train, w_init, b_init)\n",
    "print(f'dj_db at initial w,b: {tmp_dj_db}')\n",
    "print(f'dj_dw at initial w,b: \\n {tmp_dj_dw}')"
   ]
  },
  {
   "cell_type": "markdown",
   "id": "fq9DrdoP_4QE",
   "metadata": {
    "id": "fq9DrdoP_4QE"
   },
   "source": [
    "## 5.2 Practice: Implement a fully vectorized gradient computation\n",
    "\n",
    "In this section you implement a fully vectorized gradient computation.\n",
    "\n",
    "* You can't use loops\n",
    "\n",
    "\n",
    "Tips:\n",
    "\n",
    "* You can use \"*\" to multiply the columns of a matrix by a vector(if they have the same size) leveraring \"broadcasting\"\n",
    "* you can use the parameter axis when passing matrices to numpy functions to decide if the operation will be performed at row or column level\n",
    "<img src=\"https://anakarinarm.github.io/python-novice-inflammation-2016-09-20-ubc/fig/python-operations-across-axes.png\">"
   ]
  },
  {
   "cell_type": "code",
   "execution_count": 37,
   "id": "KQ8c2qaQ_3mm",
   "metadata": {
    "executionInfo": {
     "elapsed": 3,
     "status": "ok",
     "timestamp": 1746495760357,
     "user": {
      "displayName": "Erick Haroldo Sanabria Salazar",
      "userId": "12485460369353346899"
     },
     "user_tz": 360
    },
    "id": "KQ8c2qaQ_3mm"
   },
   "outputs": [],
   "source": [
    "def compute_gradient_vectorized(X, y, w, b):\n",
    "  # YOUR CODE HERE\n",
    "  \"\"\"\n",
    "  Computes the gradient for linear regression\n",
    "  Args:\n",
    "    X (ndarray (m,n)): Data, m examples with n features\n",
    "    y (ndarray (m,)) : target values\n",
    "    w (ndarray (n,)) : model parameters\n",
    "    b (scalar)       : model parameter\n",
    "\n",
    "  Returns:\n",
    "    dj_dw (ndarray (n,)): The gradient of the cost w.r.t. the parameters w.\n",
    "    dj_db (scalar):       The gradient of the cost w.r.t. the parameter b.\n",
    "  \"\"\"\n",
    "  m,n = X.shape           #(number of examples, number of features)\n",
    "  dj_dw = np.zeros((n,))\n",
    "  dj_db = 0.\n",
    "\n",
    "  for i in range(m):\n",
    "      err = (np.dot(X[i], w) + b) - y[i] # aqui ya no se usa j porque lo vectorizamos\n",
    "      dj_dw += err * X[i]\n",
    "      dj_db += err\n",
    "  dj_dw = dj_dw / m\n",
    "  dj_db = dj_db / m\n",
    "\n",
    "  return dj_db, dj_dw\n"
   ]
  },
  {
   "cell_type": "code",
   "execution_count": 38,
   "id": "V2x6ezsLB0DI",
   "metadata": {
    "colab": {
     "base_uri": "https://localhost:8080/"
    },
    "executionInfo": {
     "elapsed": 8,
     "status": "ok",
     "timestamp": 1746495763102,
     "user": {
      "displayName": "Erick Haroldo Sanabria Salazar",
      "userId": "12485460369353346899"
     },
     "user_tz": 360
    },
    "id": "V2x6ezsLB0DI",
    "outputId": "d6127008-cc03-483e-f01a-1ff856f466d3"
   },
   "outputs": [
    {
     "name": "stdout",
     "output_type": "stream",
     "text": [
      "dj_db at initial w,b: -289.5631283196694\n",
      "dj_dw at initial w,b: \n",
      " [-1.98e+02 -1.01e-03 -5.23e-05 -1.14e-01]\n"
     ]
    }
   ],
   "source": [
    "#Compute and display gradient\n",
    "tmp_dj_db, tmp_dj_dw = compute_gradient_vectorized(X_train, y_train, w_init, b_init)\n",
    "print(f'dj_db at initial w,b: {tmp_dj_db}')\n",
    "print(f'dj_dw at initial w,b: \\n {tmp_dj_dw}')"
   ]
  },
  {
   "cell_type": "markdown",
   "id": "3650ae35",
   "metadata": {
    "id": "3650ae35",
    "pycharm": {
     "name": "#%% md\n"
    }
   },
   "source": [
    "<a name=\"toc_15456_5.2\"></a>\n",
    "## 5.2 Gradient Descent With Multiple Variables\n",
    "The routine below implements equation (5) above."
   ]
  },
  {
   "cell_type": "code",
   "execution_count": 39,
   "id": "462e5d1c",
   "metadata": {
    "executionInfo": {
     "elapsed": 13,
     "status": "ok",
     "timestamp": 1746495765523,
     "user": {
      "displayName": "Erick Haroldo Sanabria Salazar",
      "userId": "12485460369353346899"
     },
     "user_tz": 360
    },
    "id": "462e5d1c",
    "pycharm": {
     "name": "#%%\n"
    }
   },
   "outputs": [],
   "source": [
    "def gradient_descent(X, y, w_in, b_in, cost_function, gradient_function, alpha, num_iters):\n",
    "    \"\"\"\n",
    "    Performs batch gradient descent to learn theta. Updates theta by taking\n",
    "    num_iters gradient steps with learning rate alpha\n",
    "\n",
    "    Args:\n",
    "      X (ndarray (m,n))   : Data, m examples with n features\n",
    "      y (ndarray (m,))    : target values\n",
    "      w_in (ndarray (n,)) : initial model parameters\n",
    "      b_in (scalar)       : initial model parameter\n",
    "      cost_function       : function to compute cost\n",
    "      gradient_function   : function to compute the gradient\n",
    "      alpha (float)       : Learning rate\n",
    "      num_iters (int)     : number of iterations to run gradient descent\n",
    "\n",
    "    Returns:\n",
    "      w (ndarray (n,)) : Updated values of parameters\n",
    "      b (scalar)       : Updated value of parameter\n",
    "      \"\"\"\n",
    "\n",
    "    # An array to store cost J and w's at each iteration primarily for graphing later\n",
    "    J_history = []\n",
    "    w = copy.deepcopy(w_in)  #avoid modifying global w within function\n",
    "    b = b_in\n",
    "\n",
    "    for i in range(num_iters):\n",
    "\n",
    "        # Calculate the gradient and update the parameters\n",
    "        dj_db,dj_dw = gradient_function(X, y, w, b)   ##None\n",
    "\n",
    "        # Update Parameters using w, b, alpha and gradient\n",
    "        w = w - alpha * dj_dw               ##None\n",
    "        b = b - alpha * dj_db               ##None\n",
    "\n",
    "        # Save cost J at each iteration\n",
    "        if i<100000:      # prevent resource exhaustion\n",
    "            J_history.append( cost_function(X, y, w, b))\n",
    "\n",
    "        # Print cost every at intervals 10 times or as many iterations if < 10\n",
    "        if i% math.ceil(num_iters / 10) == 0:\n",
    "            print(f\"Iteration {i:4d}: Cost {J_history[-1]:8.2f}   \")\n",
    "\n",
    "    return w, b, J_history #return final w,b and J history for graphing"
   ]
  },
  {
   "cell_type": "markdown",
   "id": "473fe167",
   "metadata": {
    "id": "473fe167",
    "pycharm": {
     "name": "#%% md\n"
    }
   },
   "source": [
    "In the next cell you will test the provided non-vectorized  implementation."
   ]
  },
  {
   "cell_type": "code",
   "execution_count": 40,
   "id": "ab87fade",
   "metadata": {
    "colab": {
     "base_uri": "https://localhost:8080/"
    },
    "executionInfo": {
     "elapsed": 53,
     "status": "ok",
     "timestamp": 1746496162865,
     "user": {
      "displayName": "Erick Haroldo Sanabria Salazar",
      "userId": "12485460369353346899"
     },
     "user_tz": 360
    },
    "id": "ab87fade",
    "outputId": "c88e2796-3314-40a5-c575-2e1799197d93",
    "pycharm": {
     "name": "#%%\n"
    }
   },
   "outputs": [
    {
     "name": "stdout",
     "output_type": "stream",
     "text": [
      "Iteration    0: Cost 49517.94   \n",
      "Iteration  100: Cost 49511.77   \n",
      "Iteration  200: Cost 49505.61   \n",
      "Iteration  300: Cost 49499.44   \n",
      "Iteration  400: Cost 49493.28   \n",
      "Iteration  500: Cost 49487.11   \n",
      "Iteration  600: Cost 49480.95   \n",
      "Iteration  700: Cost 49474.79   \n",
      "Iteration  800: Cost 49468.63   \n",
      "Iteration  900: Cost 49462.47   \n",
      "b,w found by gradient descent: 0.14,[9.90e-02 5.05e-07 2.62e-08 5.72e-05] \n",
      "prediction: 0.24, target value: 460\n",
      "prediction: 0.19, target value: 232\n",
      "prediction: 0.16, target value: 178\n"
     ]
    }
   ],
   "source": [
    "# initialize parameters\n",
    "initial_w = np.zeros_like(w_init)\n",
    "initial_b = 0.\n",
    "# some gradient descent settings\n",
    "iterations = 1000\n",
    "alpha = 5.0e-7\n",
    "# run gradient descent\n",
    "w_final, b_final, J_hist = gradient_descent(X_train, y_train, initial_w, initial_b,\n",
    "                                                    compute_cost, compute_gradient,\n",
    "                                                    alpha, iterations)\n",
    "print(f\"b,w found by gradient descent: {b_final:0.2f},{w_final} \")\n",
    "m,_ = X_train.shape\n",
    "for i in range(m):\n",
    "    print(f\"prediction: {np.dot(X_train[i], w_final) + b_final:0.2f}, target value: {y_train[i]}\")"
   ]
  },
  {
   "cell_type": "code",
   "execution_count": 41,
   "id": "5be4598b",
   "metadata": {
    "colab": {
     "base_uri": "https://localhost:8080/",
     "height": 395
    },
    "executionInfo": {
     "elapsed": 601,
     "status": "ok",
     "timestamp": 1746495780317,
     "user": {
      "displayName": "Erick Haroldo Sanabria Salazar",
      "userId": "12485460369353346899"
     },
     "user_tz": 360
    },
    "id": "5be4598b",
    "outputId": "b3451d19-69ff-47ed-970e-41cefffa1d9b",
    "pycharm": {
     "name": "#%%\n"
    }
   },
   "outputs": [
    {
     "data": {
      "image/png": "[encoded data removed]",
      "text/plain": [
       "<Figure size 1200x400 with 2 Axes>"
      ]
     },
     "metadata": {},
     "output_type": "display_data"
    }
   ],
   "source": [
    "# plot cost versus iteration\n",
    "fig, (ax1, ax2) = plt.subplots(1, 2, constrained_layout=True, figsize=(12, 4))\n",
    "ax1.plot(J_hist)\n",
    "ax2.plot(100 + np.arange(len(J_hist[100:])), J_hist[100:])\n",
    "ax1.set_title(\"Cost vs. iteration\");  ax2.set_title(\"Cost vs. iteration (tail)\")\n",
    "ax1.set_ylabel('Cost')             ;  ax2.set_ylabel('Cost')\n",
    "ax1.set_xlabel('iteration step')   ;  ax2.set_xlabel('iteration step')\n",
    "plt.show()"
   ]
  },
  {
   "cell_type": "markdown",
   "id": "c5c5a44a",
   "metadata": {
    "id": "c5c5a44a",
    "pycharm": {
     "name": "#%% md\n"
    }
   },
   "source": []
  },
  {
   "cell_type": "code",
   "execution_count": null,
   "id": "xuf0_XJCDIsa",
   "metadata": {
    "id": "xuf0_XJCDIsa"
   },
   "outputs": [],
   "source": []
  },
  {
   "cell_type": "markdown",
   "id": "MF78REQnCw_K",
   "metadata": {
    "id": "MF78REQnCw_K"
   },
   "source": [
    "## 5.3 Experiment with your vectorized implementation and different hyper-parameters\n",
    "\n",
    "Repeat the previous section 5 times using your vectorized gradient computation and different values for the hyper parameters(learning rate and iterations).\n",
    "\n",
    "* Try big(close to 1), small(0.000000001) and intermediate values for the lr\n",
    "* always plot the results(similar to the previous section) for every experiment"
   ]
  },
  {
   "cell_type": "code",
   "execution_count": 46,
   "id": "C0O2gfMCEE4s",
   "metadata": {
    "colab": {
     "base_uri": "https://localhost:8080/"
    },
    "executionInfo": {
     "elapsed": 55,
     "status": "ok",
     "timestamp": 1746496393514,
     "user": {
      "displayName": "Erick Haroldo Sanabria Salazar",
      "userId": "12485460369353346899"
     },
     "user_tz": 360
    },
    "id": "C0O2gfMCEE4s",
    "outputId": "ab336696-acd8-4e2a-86c2-3a7fb9b91bda"
   },
   "outputs": [
    {
     "name": "stdout",
     "output_type": "stream",
     "text": [
      "Iteration    0: Cost 49518.00   \n",
      "Iteration  200: Cost 49518.00   \n",
      "Iteration  400: Cost 49518.00   \n",
      "Iteration  600: Cost 49518.00   \n",
      "Iteration  800: Cost 49518.00   \n",
      "Iteration 1000: Cost 49518.00   \n",
      "Iteration 1200: Cost 49518.00   \n",
      "Iteration 1400: Cost 49518.00   \n",
      "Iteration 1600: Cost 49518.00   \n",
      "Iteration 1800: Cost 49518.00   \n",
      "b,w found by gradient descent: 0.00,[1.98e-06 1.01e-11 5.24e-13 1.14e-09] \n",
      "prediction: 0.00, target value: 460\n",
      "prediction: 0.00, target value: 232\n",
      "prediction: 0.00, target value: 178\n"
     ]
    }
   ],
   "source": [
    "# YOUR CODE HERE\n",
    "# initialize parameters\n",
    "initial_w = np.zeros_like(w_init)\n",
    "initial_b = 0.\n",
    "# some gradient descent settings\n",
    "iterations = 2000\n",
    "alpha = 5.0e-12\n",
    "# run gradient descent\n",
    "w_final, b_final, J_hist = gradient_descent(X_train, y_train, initial_w, initial_b,\n",
    "                                                    compute_cost_vectorized, compute_gradient_vectorized,\n",
    "                                                    alpha, iterations)\n",
    "print(f\"b,w found by gradient descent: {b_final:0.2f},{w_final} \")\n",
    "m,_ = X_train.shape\n",
    "for i in range(m):\n",
    "    print(f\"prediction: {np.dot(X_train[i], w_final) + b_final:0.2f}, target value: {y_train[i]}\")\n"
   ]
  },
  {
   "cell_type": "code",
   "execution_count": 47,
   "id": "pY5cHynYSyvy",
   "metadata": {
    "colab": {
     "base_uri": "https://localhost:8080/",
     "height": 395
    },
    "executionInfo": {
     "elapsed": 439,
     "status": "ok",
     "timestamp": 1746496396906,
     "user": {
      "displayName": "Erick Haroldo Sanabria Salazar",
      "userId": "12485460369353346899"
     },
     "user_tz": 360
    },
    "id": "pY5cHynYSyvy",
    "outputId": "470cb0bb-7b5d-4b79-a804-8a89d7c2e331"
   },
   "outputs": [
    {
     "data": {
      "image/png": "[encoded data removed]",
      "text/plain": [
       "<Figure size 1200x400 with 2 Axes>"
      ]
     },
     "metadata": {},
     "output_type": "display_data"
    }
   ],
   "source": [
    "# plot cost versus iteration\n",
    "fig, (ax1, ax2) = plt.subplots(1, 2, constrained_layout=True, figsize=(12, 4))\n",
    "ax1.plot(J_hist)\n",
    "ax2.plot(100 + np.arange(len(J_hist[100:])), J_hist[100:])\n",
    "ax1.set_title(\"Cost vs. iteration\");  ax2.set_title(\"Cost vs. iteration (tail)\")\n",
    "ax1.set_ylabel('Cost')             ;  ax2.set_ylabel('Cost')\n",
    "ax1.set_xlabel('iteration step')   ;  ax2.set_xlabel('iteration step')\n",
    "plt.show()"
   ]
  },
  {
   "cell_type": "markdown",
   "id": "6fc456c5",
   "metadata": {
    "id": "6fc456c5",
    "pycharm": {
     "name": "#%% md\n"
    }
   },
   "source": [
    "\n",
    "<a name=\"toc_15456_6\"></a>\n",
    "# 6 Congratulations!\n",
    "In this lab you:\n",
    "- Redeveloped the routines for linear regression, now with multiple variables.\n",
    "- Utilized NumPy `np.dot` to vectorize the implementations"
   ]
  },
  {
   "cell_type": "code",
   "execution_count": null,
   "id": "030caa1d",
   "metadata": {
    "id": "030caa1d",
    "pycharm": {
     "name": "#%%\n"
    }
   },
   "outputs": [],
   "source": []
  }
 ],
 "metadata": {
  "colab": {
   "provenance": []
  },
  "dl_toc_settings": {
   "rndtag": "15456"
  },
  "kernelspec": {
   "display_name": "Python 3",
   "language": "python",
   "name": "python3"
  },
  "language_info": {
   "codemirror_mode": {
    "name": "ipython",
    "version": 3
   },
   "file_extension": ".py",
   "mimetype": "text/x-python",
   "name": "python",
   "nbconvert_exporter": "python",
   "pygments_lexer": "ipython3",
   "version": "3.12.0"
  },
  "toc-autonumbering": false
 },
 "nbformat": 4,
 "nbformat_minor": 5
}
