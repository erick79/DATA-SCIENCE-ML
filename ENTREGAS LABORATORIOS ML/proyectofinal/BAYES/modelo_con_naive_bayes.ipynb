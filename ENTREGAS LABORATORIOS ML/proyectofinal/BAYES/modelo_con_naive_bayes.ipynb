{
 "cells": [
  {
   "cell_type": "code",
   "execution_count": 8,
   "metadata": {},
   "outputs": [],
   "source": [
    "#aqui ya no se explica mucho todo lo realizado porque se trato igual la data como en el de arboles de decisión\n",
    "#importamos las librerias necesarias\n",
    "import pandas as pd\n",
    "from sklearn.model_selection import train_test_split\n",
    "from sklearn.svm import SVC\n",
    "from sklearn.metrics import accuracy_score\n",
    "import joblib"
   ]
  },
  {
   "cell_type": "code",
   "execution_count": 9,
   "metadata": {},
   "outputs": [],
   "source": [
    "# Cargamos los datos\n",
    "datos = pd.read_csv(\"train.csv\")"
   ]
  },
  {
   "cell_type": "code",
   "execution_count": 10,
   "metadata": {},
   "outputs": [],
   "source": [
    "#llenamos con el promedio las edades faltantes\n",
    "#borramos columnas que no nos aportan nada al modelo\n",
    "datos[\"Age\"] = datos[\"Age\"].fillna(datos[\"Age\"].mean())\n",
    "datos = datos.drop([\"Cabin\"], axis=1)\n",
    "datos = datos.dropna()\n",
    "datos = datos.drop([\"Name\", \"PassengerId\", \"Ticket\"], axis=1)\n"
   ]
  },
  {
   "cell_type": "code",
   "execution_count": 11,
   "metadata": {},
   "outputs": [],
   "source": [
    "#pasamos a numericas las variables categóricas\n",
    "dummies_sex = pd.get_dummies(datos[\"Sex\"], drop_first=True)\n",
    "datos = datos.join(dummies_sex)\n",
    "datos = datos.drop([\"Sex\"], axis=1)\n",
    "dummies_embarked = pd.get_dummies(datos[\"Embarked\"], drop_first=True)\n",
    "datos = datos.join(dummies_embarked)\n",
    "datos = datos.drop([\"Embarked\"], axis=1)"
   ]
  },
  {
   "cell_type": "markdown",
   "metadata": {},
   "source": [
    "### MODELO MANUAL BAYES"
   ]
  },
  {
   "cell_type": "code",
   "execution_count": 13,
   "id": "836e53c3",
   "metadata": {},
   "outputs": [
    {
     "name": "stdout",
     "output_type": "stream",
     "text": [
      "Accuracy (Naive Bayes manual): 0.7584269662921348\n"
     ]
    }
   ],
   "source": [
    "\n",
    "import numpy as np\n",
    "import pandas as pd\n",
    "from sklearn.model_selection import train_test_split\n",
    "from sklearn.metrics import accuracy_score\n",
    "\n",
    "# COMO LOS DATOS YA ESTAN TRAJADOS EMPEZAMOS DE ACA\n",
    "\n",
    "# Dividir en entrenamiento y prueba\n",
    "X = datos.drop(\"Survived\", axis=1)\n",
    "y = datos[\"Survived\"]\n",
    "X_ent, X_pru, y_ent, y_pru = train_test_split(X, y, test_size=0.2, random_state=42)\n",
    "\n",
    "# Unir X e y de entrenamiento\n",
    "train_df = X_ent.copy()\n",
    "train_df[\"Survived\"] = y_ent\n",
    "\n",
    "# Calcular P(clase)\n",
    "p_clase = train_df[\"Survived\"].value_counts(normalize=True).to_dict()\n",
    "\n",
    "# Calcular P(x_i | clase)\n",
    "cond_probs = {}\n",
    "for col in X.columns:\n",
    "    cond_probs[col] = {}\n",
    "    for cls in p_clase.keys():\n",
    "        subset = train_df[train_df[\"Survived\"] == cls]\n",
    "        probs = subset[col].value_counts(normalize=True).to_dict()\n",
    "        cond_probs[col][cls] = probs\n",
    "\n",
    "# Función para predecir una fila\n",
    "def predecir(fila):\n",
    "    log_probs = {}\n",
    "    for cls in p_clase:\n",
    "        log_prob = np.log(p_clase[cls])\n",
    "        for col in X.columns:\n",
    "            valor = fila[col]\n",
    "            prob = cond_probs[col].get(cls, {}).get(valor, 1e-6)\n",
    "            log_prob += np.log(prob)\n",
    "        log_probs[cls] = log_prob\n",
    "    return max(log_probs, key=log_probs.get)\n",
    "\n",
    "# Predecir todo el conjunto de prueba\n",
    "y_pred = X_pru.apply(predecir, axis=1)\n",
    "\n",
    "# Evaluación\n",
    "print(\"Accuracy (Naive Bayes manual):\", accuracy_score(y_pru, y_pred))\n"
   ]
  }
 ],
 "metadata": {
  "kernelspec": {
   "display_name": "Python 3",
   "language": "python",
   "name": "python3"
  },
  "language_info": {
   "codemirror_mode": {
    "name": "ipython",
    "version": 3
   },
   "file_extension": ".py",
   "mimetype": "text/x-python",
   "name": "python",
   "nbconvert_exporter": "python",
   "pygments_lexer": "ipython3",
   "version": "3.12.0"
  }
 },
 "nbformat": 4,
 "nbformat_minor": 2
}
