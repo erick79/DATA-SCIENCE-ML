{
 "cells": [
  {
   "cell_type": "markdown",
   "id": "67458d68",
   "metadata": {},
   "source": [
    "# Modelo Regresión Logística Regularizada con NumPy (sin sklearn)"
   ]
  },
  {
   "cell_type": "code",
   "execution_count": 1,
   "id": "25a3360a",
   "metadata": {},
   "outputs": [],
   "source": [
    "#aqui ya no se explica mucho todo lo realizado porque se trato igual la data como en el de arboles de decisión\n",
    "#importamos las librerias necesarias\n",
    "import pandas as pd\n",
    "from sklearn.model_selection import train_test_split\n",
    "from sklearn.svm import SVC\n",
    "from sklearn.metrics import accuracy_score\n",
    "import joblib"
   ]
  },
  {
   "cell_type": "code",
   "execution_count": 2,
   "id": "9744ad4b",
   "metadata": {},
   "outputs": [],
   "source": [
    "# Cargamos los datos\n",
    "datos = pd.read_csv(\"train.csv\")"
   ]
  },
  {
   "cell_type": "code",
   "execution_count": 3,
   "id": "4ce8a5cf",
   "metadata": {},
   "outputs": [],
   "source": [
    "#llenamos con el promedio las edades faltantes\n",
    "#borramos columnas que no nos aportan nada al modelo\n",
    "datos[\"Age\"] = datos[\"Age\"].fillna(datos[\"Age\"].mean())\n",
    "datos = datos.drop([\"Cabin\"], axis=1)\n",
    "datos = datos.dropna()\n",
    "datos = datos.drop([\"Name\", \"PassengerId\", \"Ticket\"], axis=1)\n"
   ]
  },
  {
   "cell_type": "code",
   "execution_count": 4,
   "id": "cfd932e7",
   "metadata": {},
   "outputs": [],
   "source": [
    "#pasamos a numericas las variables categóricas\n",
    "dummies_sex = pd.get_dummies(datos[\"Sex\"], drop_first=True)\n",
    "datos = datos.join(dummies_sex)\n",
    "datos = datos.drop([\"Sex\"], axis=1)\n",
    "dummies_embarked = pd.get_dummies(datos[\"Embarked\"], drop_first=True)\n",
    "datos = datos.join(dummies_embarked)\n",
    "datos = datos.drop([\"Embarked\"], axis=1)"
   ]
  },
  {
   "cell_type": "markdown",
   "id": "4dbe9a18",
   "metadata": {},
   "source": [
    "### MODELO MANUAL DE REGRESION LOGISTICA REGULARIZADA"
   ]
  },
  {
   "cell_type": "code",
   "execution_count": 6,
   "id": "1bd4e41d",
   "metadata": {},
   "outputs": [
    {
     "name": "stdout",
     "output_type": "stream",
     "text": [
      "Accuracy  o precisión: 0.7078651685393258\n"
     ]
    }
   ],
   "source": [
    "\n",
    "import numpy as np\n",
    "from sklearn.model_selection import train_test_split\n",
    "from sklearn.metrics import accuracy_score\n",
    "\n",
    "# trabajamos con los datos que ya estaban procesados\n",
    "X = datos.drop(\"Survived\", axis=1).values.astype(np.float64)\n",
    "y = datos[\"Survived\"].values.astype(np.float64)\n",
    "\n",
    "# dividimos datos de entrenamiento y pruebas 80% y 20%  y el random_state es para que podamos replicar siempre la misma separación\n",
    "X_ent, X_pru, y_ent, y_pru = train_test_split(X, y, test_size=0.2, random_state=42)\n",
    "\n",
    "# Agregar columna de 1s para el sesgo (bias)\n",
    "X_ent = np.c_[np.ones((X_ent.shape[0], 1)), X_ent]\n",
    "X_pru = np.c_[np.ones((X_pru.shape[0], 1)), X_pru]\n",
    "\n",
    "# Inicializar parámetros\n",
    "theta = np.zeros(X_ent.shape[1], dtype=np.float64)\n",
    "\n",
    "# Función sigmoide\n",
    "def sigmoid(z):\n",
    "    z = np.array(z, dtype=np.float64)\n",
    "    return 1 / (1 + np.exp(-z))\n",
    "\n",
    "# Función de pérdida con regularización L2\n",
    "def compute_loss(X, y, theta, lambda_):\n",
    "    m = len(y)\n",
    "    h = sigmoid(X @ theta)\n",
    "    loss = -np.mean(y * np.log(h + 1e-15) + (1 - y) * np.log(1 - h + 1e-15))\n",
    "    reg = (lambda_ / (2 * m)) * np.sum(theta[1:] ** 2)  # No regularizar el bias\n",
    "    return loss + reg\n",
    "\n",
    "# Descenso del gradiente\n",
    "def gradient_descent(X, y, theta, alpha, lambda_, epochs):\n",
    "    m = len(y)\n",
    "    for i in range(epochs):\n",
    "        h = sigmoid(X @ theta)\n",
    "        gradient = (1 / m) * (X.T @ (h - y))\n",
    "        gradient[1:] += (lambda_ / m) * theta[1:]  \n",
    "        theta -= alpha * gradient\n",
    "    return theta\n",
    "\n",
    "# Entrenammos el modelo con los siguientes parametros\n",
    "lambda_ = 1.0\n",
    "alpha = 0.1\n",
    "epochs = 1000\n",
    "theta = gradient_descent(X_ent, y_ent, theta, alpha, lambda_, epochs)\n",
    "\n",
    "# hacemos nuestra función de prediccion\n",
    "def predecir(X, theta):\n",
    "    return (sigmoid(X @ theta) >= 0.5).astype(int)\n",
    "\n",
    "y_pred = predecir(X_pru, theta)\n",
    "\n",
    "# Evaluar\n",
    "print(\"Accuracy  o precisión:\", accuracy_score(y_pru, y_pred))\n"
   ]
  }
 ],
 "metadata": {
  "kernelspec": {
   "display_name": "Python 3",
   "language": "python",
   "name": "python3"
  },
  "language_info": {
   "codemirror_mode": {
    "name": "ipython",
    "version": 3
   },
   "file_extension": ".py",
   "mimetype": "text/x-python",
   "name": "python",
   "nbconvert_exporter": "python",
   "pygments_lexer": "ipython3",
   "version": "3.12.0"
  }
 },
 "nbformat": 4,
 "nbformat_minor": 5
}
